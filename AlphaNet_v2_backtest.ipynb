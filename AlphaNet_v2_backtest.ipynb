{
 "cells": [
  {
   "cell_type": "code",
   "execution_count": 1,
   "id": "385e7696",
   "metadata": {},
   "outputs": [],
   "source": [
    "import numpy as np\n",
    "import pandas as pd\n",
    "from tqdm import tqdm\n",
    "\n",
    "import torch\n",
    "import torch.nn as nn\n",
    "import torch.optim as optim\n",
    "import torch.nn.functional as F\n",
    "\n",
    "from torch.utils.data import DataLoader, Dataset\n",
    "from datetime import datetime, timedelta\n",
    "import scipy.stats as stats\n",
    "import matplotlib.pyplot as plt"
   ]
  },
  {
   "cell_type": "code",
   "execution_count": 2,
   "id": "8df1def1",
   "metadata": {},
   "outputs": [],
   "source": [
    "device = torch.device(\"cpu\")"
   ]
  },
  {
   "cell_type": "code",
   "execution_count": 3,
   "id": "a7a0f9cf",
   "metadata": {},
   "outputs": [
    {
     "name": "stdout",
     "output_type": "stream",
     "text": [
      "Shape of X:  (930008, 15, 30)\n",
      "Shape of Y:  (930008,)\n"
     ]
    }
   ],
   "source": [
    "X = np.load('npy_v2/X_fe.npy')\n",
    "Y = np.load('npy_v2/Y_fe.npy')\n",
    "dates = np.load('npy_v2/Y_dates.npy')\n",
    "\n",
    "print('Shape of X: ', X.shape)\n",
    "print('Shape of Y: ', Y.shape)"
   ]
  },
  {
   "cell_type": "code",
   "execution_count": 4,
   "id": "701809d9",
   "metadata": {},
   "outputs": [],
   "source": [
    "'''\n",
    "对X进行窗口标准化\n",
    "'''\n",
    "class myDataset(Dataset):\n",
    "    '''\n",
    "    自定义数据集，将原始数据从 numpy arrays 转换成 float 格式的 tensors\n",
    "    '''\n",
    "    \n",
    "    def __init__(self, X, y, scaler = None, is_train = True):\n",
    "        super(myDataset, self).__init__()\n",
    "        self.y = y.reshape(-1, 1)\n",
    "        \n",
    "        self.origin_shape = X.shape\n",
    "        \n",
    "        # (B, n, T) → (B*T, n)\n",
    "        X_2d = X.reshape(-1, self.origin_shape[1]) \n",
    "        \n",
    "        #训练模式，同时完成 拟合（计算均值和标准差） 和 转换（应用标准化）\n",
    "        if is_train: \n",
    "            self.scaler = StandardScaler()\n",
    "            X_trans = self.scaler.fit_transform(X_2d)\n",
    "            #X_trans = np.clip(X_trans, -5, 5)  # 限制标准化后的值在±5个标准差内\n",
    "        \n",
    "        #验证/测试模式，仅进行 转换（应用标准化），不重新计算均值和标准差\n",
    "        #预先计算好的均值和标准差存储在标准化器（StandardScaler）的内部属性中\n",
    "        \n",
    "        else: \n",
    "            self.scaler = scaler\n",
    "            X_trans = self.scaler.transform(X_2d)\n",
    "            \n",
    "        self.X = X_trans.reshape(self.origin_shape)\n",
    "        self.X = torch.as_tensor(self.X, dtype=torch.float32)\n",
    "        self.y = torch.as_tensor(self.y, dtype=torch.float32)\n",
    "\n",
    "    def __len__(self):\n",
    "        return len(self.X)\n",
    "\n",
    "    def __getitem__(self, idx):\n",
    "        return self.X[idx], self.y[idx]\n",
    "    \n",
    "    def get_scaler(self):\n",
    "        return self.scaler"
   ]
  },
  {
   "cell_type": "code",
   "execution_count": 5,
   "id": "627db80a",
   "metadata": {},
   "outputs": [],
   "source": [
    "target_dates = np.array([datetime.strptime(str(date), '%Y-%m-%d').date() for date in dates])\n",
    "unique_dates = sorted(np.unique(target_dates))"
   ]
  },
  {
   "cell_type": "code",
   "execution_count": 6,
   "id": "114c2b0c",
   "metadata": {},
   "outputs": [],
   "source": [
    "#用于得到不同的轮次,确保每个轮次为1626天\n",
    "\n",
    "start_dates = []\n",
    "starts, valid_starts, test_starts, ends,  = [], [], [], []\n",
    "\n",
    "i, start, end = 0, 0, 0\n",
    "\n",
    "k = int(1500*0.8) #按1：1划分训练集和测试集\n",
    "\n",
    "while i + 1500 + 126 <= len(unique_dates):\n",
    "    start_dates.append(i)\n",
    "    \n",
    "    start = sum(target_dates < unique_dates[i])\n",
    "    starts.append(start)\n",
    "    \n",
    "    valid_start = sum(target_dates < unique_dates[i+k]) #训练集终点\n",
    "    valid_starts.append(valid_start)\n",
    "    \n",
    "    test_start = sum(target_dates < unique_dates[i+1500]) #验证集重点（1500天）\n",
    "    test_starts.append(test_start)\n",
    "    \n",
    "    end = sum(target_dates < unique_dates[i+1500+126]) #测试集终点（再126天）\n",
    "    ends.append(end)\n",
    "    \n",
    "    i += 126"
   ]
  },
  {
   "cell_type": "code",
   "execution_count": 7,
   "id": "574a0a15",
   "metadata": {},
   "outputs": [],
   "source": [
    "def get_time_range(round_idx):\n",
    "    # 获取指定轮次的时间区间\n",
    "    train_start_date = dates[starts[round_idx]]\n",
    "    valid_start_date = dates[valid_starts[round_idx]]\n",
    "    test_start_date = dates[test_starts[round_idx]]\n",
    "    test_end_date = dates[ends[round_idx]]\n",
    "    \n",
    "    return {\n",
    "        \"train\": (train_start_date, valid_start_date),\n",
    "        \"valid\": (valid_start_date, test_start_date),\n",
    "        \"test\": (test_start_date, test_end_date)\n",
    "    }"
   ]
  },
  {
   "cell_type": "code",
   "execution_count": 8,
   "id": "e86c20bc",
   "metadata": {},
   "outputs": [],
   "source": [
    "from Models_v2.AlphaNet_v2 import AlphaNet_v2"
   ]
  },
  {
   "cell_type": "code",
   "execution_count": 9,
   "id": "b7fa857e",
   "metadata": {},
   "outputs": [],
   "source": [
    "def save_model(model, path_name):\n",
    "    torch.save(model.state_dict(), path_name)\n",
    "\n",
    "def load_model(model, path_name):\n",
    "    weights = torch.load(path_name)\n",
    "    model.load_state_dict(weights)"
   ]
  },
  {
   "cell_type": "code",
   "execution_count": 10,
   "id": "263c4de5",
   "metadata": {},
   "outputs": [
    {
     "data": {
      "text/plain": [
       "tensor([[-0.5658],\n",
       "        [ 0.2655],\n",
       "        [-1.4989],\n",
       "        [ 0.9970],\n",
       "        [ 0.8023]], grad_fn=<AddmmBackward0>)"
      ]
     },
     "execution_count": 10,
     "metadata": {},
     "output_type": "execute_result"
    }
   ],
   "source": [
    "# 用小量数据测试模型是否能正常工作\n",
    "net = AlphaNet_v2(d=10, stride=10, n=15)\n",
    "net(torch.tensor(X[:5]).float())"
   ]
  },
  {
   "cell_type": "code",
   "execution_count": 11,
   "id": "99430361",
   "metadata": {},
   "outputs": [],
   "source": [
    "def compute_RankIC(X, Y, model, target_dates):\n",
    "    \n",
    "    results = []\n",
    "    unique_dates = np.unique(target_dates)\n",
    "    \n",
    "    # 针对每个目标日期，对比当天真的股票收益率排名和预测的排名\n",
    "    for date in unique_dates:\n",
    "        \n",
    "        # 获取当日所有股票的信息\n",
    "        idx = np.where(target_dates==date)[0]\n",
    "        \n",
    "        # 当日小于20支股票，跳过该日\n",
    "        if len(idx) < 20:\n",
    "            continue\n",
    "        \n",
    "        # 预测个股收益率值\n",
    "        model.eval()\n",
    "        y_pred = model(torch.tensor(X[idx]).float()).squeeze().detach().numpy()\n",
    "        y_true = Y[idx]\n",
    "        \n",
    "        # 计算排名\n",
    "        rank_pred = stats.rankdata(y_pred)\n",
    "        rank_ture = stats.rankdata(y_true)\n",
    "        \n",
    "        # 计算排名之间的相关度\n",
    "        correlation, _ = stats.spearmanr(rank_pred, rank_ture)\n",
    "        results.append(correlation)\n",
    "        \n",
    "    return np.array(results)"
   ]
  },
  {
   "cell_type": "code",
   "execution_count": 14,
   "id": "7958e963",
   "metadata": {},
   "outputs": [
    {
     "name": "stdout",
     "output_type": "stream",
     "text": [
      "Model: saved_models_v2/alphanet_0.pt | Mean IC: 0.96% | Std IC: 12.65% | IC Ratio: 0.0760 | Positive Rate: 50.00%\n",
      "Model: saved_models_v2/alphanet_1.pt | Mean IC: -1.86% | Std IC: 12.18% | IC Ratio: -0.1527 | Positive Rate: 41.27%\n",
      "Model: saved_models_v2/alphanet_2.pt | Mean IC: -0.69% | Std IC: 8.16% | IC Ratio: -0.0851 | Positive Rate: 50.00%\n",
      "Model: saved_models_v2/alphanet_3.pt | Mean IC: 0.19% | Std IC: 7.92% | IC Ratio: 0.0238 | Positive Rate: 53.17%\n",
      "Model: saved_models_v2/alphanet_4.pt | Mean IC: 0.14% | Std IC: 8.69% | IC Ratio: 0.0158 | Positive Rate: 51.59%\n",
      "Model: saved_models_v2/alphanet_5.pt | Mean IC: 0.49% | Std IC: 8.27% | IC Ratio: 0.0592 | Positive Rate: 50.00%\n",
      "Model: saved_models_v2/alphanet_6.pt | Mean IC: -0.74% | Std IC: 10.52% | IC Ratio: -0.0699 | Positive Rate: 44.44%\n",
      "Model: saved_models_v2/alphanet_7.pt | Mean IC: -0.13% | Std IC: 9.11% | IC Ratio: -0.0148 | Positive Rate: 54.76%\n",
      "Model: saved_models_v2/alphanet_8.pt | Mean IC: 1.53% | Std IC: 11.41% | IC Ratio: 0.1339 | Positive Rate: 57.14%\n",
      "Model: saved_models_v2/alphanet_9.pt | Mean IC: 2.01% | Std IC: 8.56% | IC Ratio: 0.2347 | Positive Rate: 62.70%\n",
      "Model: saved_models_v2/alphanet_10.pt | Mean IC: 1.14% | Std IC: 8.42% | IC Ratio: 0.1351 | Positive Rate: 53.17%\n",
      "Model: saved_models_v2/alphanet_11.pt | Mean IC: 1.29% | Std IC: 7.76% | IC Ratio: 0.1664 | Positive Rate: 58.73%\n",
      "Model: saved_models_v2/alphanet_12.pt | Mean IC: 1.51% | Std IC: 10.38% | IC Ratio: 0.1453 | Positive Rate: 57.14%\n",
      "Model: saved_models_v2/alphanet_13.pt | Mean IC: 0.80% | Std IC: 5.75% | IC Ratio: 0.1389 | Positive Rate: 54.76%\n"
     ]
    }
   ],
   "source": [
    "import pickle\n",
    "\n",
    "results = []\n",
    "\n",
    "model_name = 'alphanet'\n",
    "\n",
    "cnt = 0\n",
    "\n",
    "# 使用每个训练区间的最佳模型，来预测对应区间测试集的收益率，计算IC值\n",
    "for cnt, (start, valid_start, test_start, end) in enumerate(zip(starts, valid_starts, test_starts, ends)):\n",
    "    \n",
    "    # 导入模型\n",
    "    model_path = 'saved_models_v2/' + model_name + '_' + str(cnt) + '.pt'\n",
    "    net = AlphaNet_v2(d=10, stride=10, n=15)\n",
    "    net.load_state_dict(torch.load(model_path))\n",
    "    net.eval()\n",
    "    \n",
    "    # 预测 + 验证\n",
    "    test_res = compute_RankIC(X[test_start:end], Y[test_start:end], net, target_dates[test_start:end])\n",
    "    \n",
    "    mean_ic = np.mean(test_res)\n",
    "    std_ic = np.std(test_res)\n",
    "    ic_ratio = mean_ic / std_ic\n",
    "    positive_ratio = np.sum(test_res > 0) / len(test_res)\n",
    "    \n",
    "    print(\n",
    "        f\"Model: {model_path} | \"\n",
    "        f\"Mean IC: {100 * mean_ic:.2f}% | \"\n",
    "        f\"Std IC: {100 * std_ic:.2f}% | \"\n",
    "        f\"IC Ratio: {ic_ratio:.4f} | \"\n",
    "        f\"Positive Rate: {100 * positive_ratio:.2f}%\"\n",
    "    )\n",
    "    \n",
    "    results.append(test_res)\n",
    "\n",
    "with open('test_results_v2.pickle', 'wb') as f:\n",
    "    pickle.dump(results, f)\n",
    "    "
   ]
  },
  {
   "cell_type": "code",
   "execution_count": 13,
   "id": "63828c42",
   "metadata": {},
   "outputs": [
    {
     "ename": "NameError",
     "evalue": "name 'y_preds' is not defined",
     "output_type": "error",
     "traceback": [
      "\u001b[1;31m---------------------------------------------------------------------------\u001b[0m",
      "\u001b[1;31mNameError\u001b[0m                                 Traceback (most recent call last)",
      "Cell \u001b[1;32mIn[13], line 1\u001b[0m\n\u001b[1;32m----> 1\u001b[0m plt\u001b[38;5;241m.\u001b[39mhist(y_preds, bins\u001b[38;5;241m=\u001b[39m\u001b[38;5;241m50\u001b[39m)\n\u001b[0;32m      2\u001b[0m plt\u001b[38;5;241m.\u001b[39mtitle(\u001b[38;5;124m\"\u001b[39m\u001b[38;5;124mDistribution of Model Predictions\u001b[39m\u001b[38;5;124m\"\u001b[39m)\n\u001b[0;32m      3\u001b[0m plt\u001b[38;5;241m.\u001b[39mxlabel(\u001b[38;5;124m\"\u001b[39m\u001b[38;5;124mPredicted Return\u001b[39m\u001b[38;5;124m\"\u001b[39m)\n",
      "\u001b[1;31mNameError\u001b[0m: name 'y_preds' is not defined"
     ]
    }
   ],
   "source": [
    "plt.hist(y_preds, bins=50)\n",
    "plt.title(\"Distribution of Model Predictions\")\n",
    "plt.xlabel(\"Predicted Return\")\n",
    "plt.ylabel(\"Frequency\")"
   ]
  },
  {
   "cell_type": "code",
   "execution_count": null,
   "id": "795a60eb",
   "metadata": {},
   "outputs": [],
   "source": [
    "time_range = get_time_range(10)\n",
    "print(f\"\"\"\n",
    "训练集: {time_range['train'][0]} 至 {time_range['train'][1]}\n",
    "验证集: {time_range['valid'][0]} 至 {time_range['valid'][1]}\n",
    "测试集: {time_range['test'][0]} 至 {time_range['test'][1]}\n",
    "\"\"\")"
   ]
  },
  {
   "cell_type": "code",
   "execution_count": null,
   "id": "f35ed79f",
   "metadata": {},
   "outputs": [],
   "source": [
    "net.eval()\n",
    "part = range(-200,0)\n",
    "y_preds = net(torch.tensor(X[part]).float()).squeeze().detach().numpy()"
   ]
  },
  {
   "cell_type": "code",
   "execution_count": null,
   "id": "05a7efb5",
   "metadata": {},
   "outputs": [],
   "source": []
  },
  {
   "cell_type": "code",
   "execution_count": null,
   "id": "7a140e32",
   "metadata": {},
   "outputs": [],
   "source": [
    "y_real = (torch.tensor(Y[part]).float()).squeeze().detach().numpy()"
   ]
  },
  {
   "cell_type": "code",
   "execution_count": null,
   "id": "49a72b7a",
   "metadata": {},
   "outputs": [],
   "source": [
    "y_real"
   ]
  },
  {
   "cell_type": "code",
   "execution_count": null,
   "id": "d36745e6",
   "metadata": {},
   "outputs": [],
   "source": []
  }
 ],
 "metadata": {
  "kernelspec": {
   "display_name": "Python 3 (ipykernel)",
   "language": "python",
   "name": "python3"
  },
  "language_info": {
   "codemirror_mode": {
    "name": "ipython",
    "version": 3
   },
   "file_extension": ".py",
   "mimetype": "text/x-python",
   "name": "python",
   "nbconvert_exporter": "python",
   "pygments_lexer": "ipython3",
   "version": "3.11.5"
  }
 },
 "nbformat": 4,
 "nbformat_minor": 5
}
